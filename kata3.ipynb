{
 "cells": [
  {
   "cell_type": "markdown",
   "metadata": {},
   "source": [
    "# Kata 3"
   ]
  },
  {
   "cell_type": "code",
   "execution_count": 1,
   "metadata": {},
   "outputs": [
    {
     "name": "stdout",
     "output_type": "stream",
     "text": [
      "Advertencia, se acerca un asteroide a la tierra, su velocidad rebasa los 25km/s\n"
     ]
    }
   ],
   "source": [
    "asteroide = 49\n",
    "if asteroide >= 25:\n",
    "    print('Advertencia, se acerca un asteroide a la tierra, su velocidad rebasa los 25km/s')\n",
    "else:\n",
    "    print('No se acerca ningun asteroide a la tierra.')"
   ]
  },
  {
   "cell_type": "code",
   "execution_count": 2,
   "metadata": {},
   "outputs": [
    {
     "name": "stdout",
     "output_type": "stream",
     "text": [
      "Un asteroide se acerca a la tierra a una velocidad no mayor a 19 km/s.\n"
     ]
    }
   ],
   "source": [
    "asteroide = 19\n",
    "if asteroide >= 20:\n",
    "    print('Un asteroide se acerca a la tierra. Deben buscar un asteroide en el cielo con un rayo de luz.')\n",
    "elif asteroide <= 19:\n",
    "    print('Un asteroide se acerca a la tierra a una velocidad no mayor a 19 km/s.')\n",
    "else:\n",
    "    print('No se acerca ningún asteroide a la tierra.')"
   ]
  },
  {
   "cell_type": "code",
   "execution_count": 3,
   "metadata": {},
   "outputs": [
    {
     "name": "stdout",
     "output_type": "stream",
     "text": [
      "77\n",
      "60\n",
      "Alerta roja, la velocidad del asteroide supera los 25 km/s\n",
      "Alerta roja, el asteroide golpeara la tierra y dejara grandes danos!\n"
     ]
    }
   ],
   "source": [
    "t_asteroide = input('Ingrese el tamaño del asteroide: ')\n",
    "velocidad_a = input('Ingrese la velocidad del asteroide: ')\n",
    "t_asteroide = int(t_asteroide)\n",
    "velocidad_a = int(velocidad_a)\n",
    "print(t_asteroide)\n",
    "print(velocidad_a)\n",
    "if t_asteroide <= 25:\n",
    "    print('el asteroide tiene alta probabilidad de desintegrarse en la atmosfera de la tierra.')\n",
    "    if velocidad_a >= 20:\n",
    "        print('El asteroide dejara un rayo de luz.')\n",
    "elif t_asteroide >25 and t_asteroide<= 1000:\n",
    "    if velocidad_a >= 25:\n",
    "        print('Alerta roja, la velocidad del asteroide supera los 25 km/s')\n",
    "        print('Alerta roja, el asteroide golpeara la tierra y dejara grandes danos!')\n",
    "    else:\n",
    "        print('Alerta roja, el asteroide golpeara la tierra y dejara grandes danos!')"
   ]
  }
 ],
 "metadata": {
  "interpreter": {
   "hash": "12cfbcfc427fbdf940658131b907ccae4512be1ff580dd9dd9991e33d3afe35f"
  },
  "kernelspec": {
   "display_name": "Python 3.10.2 64-bit",
   "language": "python",
   "name": "python3"
  },
  "language_info": {
   "codemirror_mode": {
    "name": "ipython",
    "version": 3
   },
   "file_extension": ".py",
   "mimetype": "text/x-python",
   "name": "python",
   "nbconvert_exporter": "python",
   "pygments_lexer": "ipython3",
   "version": "3.10.2"
  },
  "orig_nbformat": 4
 },
 "nbformat": 4,
 "nbformat_minor": 2
}
