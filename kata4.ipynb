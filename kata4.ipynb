{
 "cells": [
  {
   "cell_type": "markdown",
   "metadata": {},
   "source": [
    "# Kata 4\n"
   ]
  },
  {
   "cell_type": "markdown",
   "metadata": {},
   "source": [
    "## Ejercicio 1: Transformar cadenas"
   ]
  },
  {
   "cell_type": "code",
   "execution_count": 1,
   "metadata": {},
   "outputs": [
    {
     "name": "stdout",
     "output_type": "stream",
     "text": [
      "['interesting facts about the moon', \" the moon is earth's only satellite\", ' there are several interesting facts about the moon and how it affects life here on earth', ' \\non average, the moon moves 4cm away from the earth every year', ' this yearly drift is not significant enough to cause immediate effects on earth', ' the highest daylight temperature of the moon is 127 c', '']\n"
     ]
    }
   ],
   "source": [
    "text = \"\"\"Interesting facts about the Moon. The Moon is Earth's only satellite. There are several interesting facts about the Moon and how it affects life here on Earth. \n",
    "On average, the Moon moves 4cm away from the Earth every year. This yearly drift is not significant enough to cause immediate effects on Earth. The highest daylight temperature of the Moon is 127 C.\"\"\"\n",
    "# Dividir texto por oraciones\n",
    "min = text.lower()\n",
    "lista = min.split('.')\n",
    "print(lista)"
   ]
  },
  {
   "cell_type": "code",
   "execution_count": 2,
   "metadata": {},
   "outputs": [
    {
     "data": {
      "text/plain": [
       "('average', 'temperature', False)"
      ]
     },
     "execution_count": 2,
     "metadata": {},
     "output_type": "execute_result"
    }
   ],
   "source": [
    "# Define las palabras pista: average, temperature y distance suenan bien\n",
    "'average', 'temperature', 'distance'in lista"
   ]
  },
  {
   "cell_type": "code",
   "execution_count": 3,
   "metadata": {},
   "outputs": [
    {
     "name": "stdout",
     "output_type": "stream",
     "text": [
      " \n",
      "on average, the moon moves 4cm away from the earth every year\n"
     ]
    }
   ],
   "source": [
    "for item in lista:\n",
    "    if item.count('average'):\n",
    "        print(item)"
   ]
  },
  {
   "cell_type": "code",
   "execution_count": 4,
   "metadata": {},
   "outputs": [
    {
     "name": "stdout",
     "output_type": "stream",
     "text": [
      " the highest daylight temperature of the moon is 127 c\n"
     ]
    }
   ],
   "source": [
    "for item in lista:\n",
    "    if item.count('temperature'):\n",
    "        print(item)"
   ]
  },
  {
   "cell_type": "code",
   "execution_count": 5,
   "metadata": {},
   "outputs": [
    {
     "name": "stdout",
     "output_type": "stream",
     "text": [
      "...\n",
      "...\n",
      "...\n",
      "...\n",
      "...\n",
      "...\n",
      "...\n"
     ]
    }
   ],
   "source": [
    "for item in lista:\n",
    "    if item.count('distance'):\n",
    "        print(item)\n",
    "    else:\n",
    "        print('...')"
   ]
  },
  {
   "cell_type": "code",
   "execution_count": 6,
   "metadata": {},
   "outputs": [
    {
     "name": "stdout",
     "output_type": "stream",
     "text": [
      "...\n",
      "...\n",
      "...\n",
      "...\n",
      "...\n",
      " the highest daylight temperature of the moon is 127 celcius\n",
      "...\n"
     ]
    }
   ],
   "source": [
    "for item in lista:\n",
    "    if item.endswith(' c'):\n",
    "        print(item.replace(' c',' celcius'))\n",
    "    else:\n",
    "        print('...')"
   ]
  },
  {
   "cell_type": "markdown",
   "metadata": {},
   "source": [
    "## Ejercicio 2: Formateando Cadenas"
   ]
  },
  {
   "cell_type": "code",
   "execution_count": 7,
   "metadata": {},
   "outputs": [],
   "source": [
    "# Datos con los que vas a trabajar\n",
    "name = \"Moon\"\n",
    "gravity = 0.00162 # in kms\n",
    "planet = \"Earth\""
   ]
  },
  {
   "cell_type": "code",
   "execution_count": 8,
   "metadata": {},
   "outputs": [
    {
     "name": "stdout",
     "output_type": "stream",
     "text": [
      "\n",
      "-------------------------------------------------------\n",
      "Planet: Earth\n",
      "Gravity: 1.6199999999999999\n",
      "Name: Moon\n"
     ]
    }
   ],
   "source": [
    "# Título\n",
    "title= (f\"the gravity of the {planet}'s {name}\").title()\n",
    "\n",
    "facts = f\"\"\"\n",
    "-------------------------------------------------------\n",
    "Planet: {planet}\n",
    "Gravity: {gravity*1000}\n",
    "Name: {name}\"\"\"\n",
    "\n",
    "print(facts)\n",
    "\n"
   ]
  },
  {
   "cell_type": "code",
   "execution_count": 9,
   "metadata": {},
   "outputs": [
    {
     "name": "stdout",
     "output_type": "stream",
     "text": [
      "The Gravity Of The Earth'S Moon\n",
      "-------------------------------------------------------\n",
      "Planet: Earth\n",
      "Gravity: 1.6199999999999999\n",
      "Name: Moon\n"
     ]
    }
   ],
   "source": [
    "template = title + facts\n",
    "print(template)"
   ]
  },
  {
   "cell_type": "code",
   "execution_count": 10,
   "metadata": {},
   "outputs": [],
   "source": [
    "planet = 'Mars'\n",
    "gravity = 0.00143\n",
    "name = 'Ganymede'"
   ]
  },
  {
   "cell_type": "code",
   "execution_count": 11,
   "metadata": {},
   "outputs": [
    {
     "name": "stdout",
     "output_type": "stream",
     "text": [
      "The Gravity Of The Earth'S Moon\n",
      "-------------------------------------------------------\n",
      "Planet: Earth\n",
      "Gravity: 1.6199999999999999\n",
      "Name: Moon\n"
     ]
    }
   ],
   "source": [
    "print(template)"
   ]
  },
  {
   "cell_type": "code",
   "execution_count": 12,
   "metadata": {},
   "outputs": [
    {
     "name": "stdout",
     "output_type": "stream",
     "text": [
      "The Gravity Of The Mars'S Ganymede\n",
      "-------------------------------------------------------\n",
      "Planet: Mars\n",
      "Gravity: 1.4300000000000002\n",
      "Name: Ganymede\n"
     ]
    }
   ],
   "source": [
    "title= (f\"the gravity of the {planet}'s {name}\").title()\n",
    "\n",
    "facts = f\"\"\"\n",
    "-------------------------------------------------------\n",
    "Planet: {planet}\n",
    "Gravity: {gravity*1000}\n",
    "Name: {name}\"\"\"\n",
    "second_template = title + facts\n",
    "print(second_template.format(planet,gravity,name))"
   ]
  }
 ],
 "metadata": {
  "interpreter": {
   "hash": "12cfbcfc427fbdf940658131b907ccae4512be1ff580dd9dd9991e33d3afe35f"
  },
  "kernelspec": {
   "display_name": "Python 3.10.2 64-bit",
   "language": "python",
   "name": "python3"
  },
  "language_info": {
   "codemirror_mode": {
    "name": "ipython",
    "version": 3
   },
   "file_extension": ".py",
   "mimetype": "text/x-python",
   "name": "python",
   "nbconvert_exporter": "python",
   "pygments_lexer": "ipython3",
   "version": "3.10.2"
  },
  "orig_nbformat": 4
 },
 "nbformat": 4,
 "nbformat_minor": 2
}
